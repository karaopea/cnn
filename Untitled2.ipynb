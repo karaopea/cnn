{
 "cells": [
  {
   "cell_type": "code",
   "execution_count": 5,
   "outputs": [],
   "source": [
    "from IPython.display import HTML\n",
    "#HTML('<iframe width=\"560\" height=\"315\" src=\"https://www.youtube.com/embed/lTTZ8PkQ_Pk\" frameborder=\"0\" allow=\"accelerometer; autoplay; encrypted-media; gyroscope; picture-in-picture\" allowfullscreen></iframe>')\n",
    "\n"
   ],
   "metadata": {
    "collapsed": false,
    "pycharm": {
     "name": "#%%\n"
    }
   }
  },
  {
   "cell_type": "markdown",
   "source": [
    "AI Jump-up 교육은 실습위주 교육이라고 들어서 실습을 중간중간 실습할 수 있도록\n",
    "강의를 준비하게 되었고, 그래서 발표자료와 실습을 왔다갔다하는 문제를 방지하기 위해\n",
    "MD5로 자료를 만들게 되었습니다."
   ],
   "metadata": {
    "collapsed": false,
    "pycharm": {
     "name": "#%% md\n"
    }
   }
  },
  {
   "cell_type": "markdown",
   "metadata": {
    "id": "SEuxdJJYb6qa",
    "pycharm": {
     "name": "#%% md\n"
    }
   },
   "source": [
    "# Deep Learning for Computer Vision\n",
    "***\n",
    "\n",
    "## Plan for this lecture\n",
    "1. ~~Deep Learning for~~ **Computer Vision**\n",
    "2. **Deep Learning** ~~for Computer Vision~~\n",
    "3. **Deep Learning for Computer Vision**\n",
    "\n",
    "***"
   ]
  },
  {
   "cell_type": "code",
   "execution_count": 10,
   "outputs": [
    {
     "name": "stdout",
     "output_type": "stream",
     "text": [
      "import done.\n"
     ]
    }
   ],
   "source": [
    "import torch\n",
    "import torch.nn as nn\n",
    "import torch.nn.functional as F\n",
    "import torch.optim as optim\n",
    "import numpy as np\n",
    "import matplotlib.pyplot as plt\n",
    "print('import done.')"
   ],
   "metadata": {
    "collapsed": false,
    "pycharm": {
     "name": "#%%\n"
    }
   }
  },
  {
   "cell_type": "markdown",
   "source": [
    "## 1. ~~Deep Learning for~~ Computer Vision\n",
    "### 1.1  Computer Vision is Everywhere!\n",
    "![pt](https://github.com/karaopea/cnn/blob/master/images/498_FA2019_lecture01.pdf_page_09.jpg?raw=true\n",
    "> 498_FA2019_lecture01\n",
    "***"
   ],
   "metadata": {
    "collapsed": false
   }
  },
  {
   "cell_type": "markdown",
   "source": [
    "## 2. **Deep Learning** ~~for Computer Vision~~\n",
    "### 2.1  Recap:Deep Learning\n",
    "![pt](https://github.com/karaopea/cnn/blob/master/images/498_FA2019_lecture01.pdf_page_09.jpg?raw=true\n",
    "\n",
    "    이번 섹션에서 딥러닝의 핵심적인 내용들을 되짚고 CNN을 진행하겠습니다.\n",
    "***"
   ],
   "metadata": {
    "collapsed": false,
    "pycharm": {
     "name": "#%% md\n"
    }
   }
  },
  {
   "cell_type": "markdown",
   "source": [
    "#### 2.1.1  Real neuron\n",
    "![pt](https://github.com/karaopea/cnn/blob/master/images/pt/Slide2.PNG?raw=true)\n",
    "\n",
    "    이 그림은 모든 Neural Network을 얘기할때 꼭 나오는 뉴런 그림이죠? 지겨운 분들도 있을 것 같습니다.\n",
    "    생물학적 백그라운드를 조금 알고 가면 좋을 것 같아 다시 준비 했습니다.\n",
    "    키워드는,\n",
    "    Dendrite에서 다른 뉴런들의 신호를 받아 Soma에서 상태값을 이용하여 매우 간단한 연산을하고 Axon을 통해\n",
    "    다른 뉴런들에게 전달할지 말지 결정합니다. NN은 이런 인간의 뇌 구조를 모방하여 만들었습니다.\n",
    "    (보신 우리 뇌에는 860억개의 뉴런이 있다고합니다.)\n",
    "***"
   ],
   "metadata": {
    "collapsed": false
   }
  },
  {
   "cell_type": "markdown",
   "source": [
    "#### 2.1.1  Real neuron\n",
    "![pt](https://github.com/karaopea/cnn/blob/master/images/pt/Slide90.PNG?raw=true)\n",
    "\n",
    "    이 뉴런을 단순화해서 표현을 할껀데, 요게 뭡니까? 소죠?\n",
    "    이게 피카소의 작품인데요, 소에서 점점 단순화되다가 결국 이렇게 되버렸죠.\n",
    "    뿔은 무슨 더듬이처럼 됬고, 꼬리가 있네요, 다리도 네개고.\n",
    "    그리고 몸통에.. 수컷이네요 수컷.\n",
    "\n",
    "\n",
    "    자 그러면 뉴런은 어떻게 표현할까냐는건데, 엄청 간단합니다.\n",
    "    소에서 저렇게 특징적인것만 표현했듯이\n",
    "    뉴런도 다른 뉴런들에게서 받아 출력을 내는 그림으로 간단히 표현할 수 있습니다.\n",
    "    이게 여러개 있으면 인공신경망, 뉴럴네트워크다 이렇게 말할 수 있습니다.\n",
    "\n",
    "***"
   ],
   "metadata": {
    "collapsed": false
   }
  },
  {
   "cell_type": "markdown",
   "source": [
    "#### 2.1.2  Artificial neuron\n",
    "![pt](https://github.com/karaopea/cnn/blob/master/images/pt/Slide3.PNG?raw=true)\n",
    "\n",
    "    요 뉴런을 조금 더 자세히 표현하자면 그림과 같습니다.\n",
    "    인공신경망의 뉴런 구조는 상태를 저장할 수 있는 weight ,bias 값을 이용하여\n",
    "    input을 다음 뉴런에게 전달할지 결정하는 구조로 만들어져 있습니다.\n",
    "    오해하지말아야 할 것은 뇌구조와 같게 만들었다는 뜻은 아니며,\n",
    "    신경생리학적 관찰적인 부분을 모델링한 것으로 이해해주심 되겠습니다.\n",
    "***"
   ],
   "metadata": {
    "collapsed": false
   }
  },
  {
   "cell_type": "markdown",
   "source": [
    "#### 2.1.2  Artificial neuron\n",
    "![pt](https://github.com/karaopea/cnn/blob/master/images/pt/Slide4.PNG?raw=true)\n",
    "\n",
    "    위 그래프를 보면서 설명드리자면, 파란,붉은점들은 input이라 볼 수 있으며,\n",
    "    점선으로 표시된 부분의 뉴런의 weight를 표현하고 있습니다.\n",
    "    다양한 점선들은 weight에 따라 input을 어떻게 프로젝션 할 수 있는 지 보여주고 있습니다.\n",
    "\n",
    "    그럼 이제 파란점과 붉은점을 나누는 간단한 인공신경망을 만들어 보겠습니다\n",
    "***\n",
    "    "
   ],
   "metadata": {
    "collapsed": false
   }
  },
  {
   "cell_type": "code",
   "execution_count": 19,
   "outputs": [
    {
     "name": "stdout",
     "output_type": "stream",
     "text": [
      "0 0.8787848949432373\n",
      "1000 0.003038016613572836\n",
      "2000 0.001510934205725789\n",
      "3000 0.0010051975259557366\n",
      "4000 0.0007530620787292719\n",
      "5000 0.0006020592409186065\n",
      "6000 0.0005014445632696152\n",
      "7000 0.00042970303911715746\n",
      "8000 0.00037585594691336155\n",
      "9000 0.0003340268158353865\n",
      "10000 0.00030057679396122694\n"
     ]
    },
    {
     "data": {
      "text/plain": "<Figure size 432x288 with 1 Axes>",
      "image/png": "[encoded data removed]"
     },
     "metadata": {
      "needs_background": "light"
     },
     "output_type": "display_data"
    }
   ],
   "source": [
    "# for reproducibility\n",
    "torch.manual_seed(777)\n",
    "\n",
    "# input\n",
    "X = torch.FloatTensor([[0, 0], [1, 1]])\n",
    "Y = torch.FloatTensor([[0],[1]])\n",
    "\n",
    "# nn layers\n",
    "input_layer = torch.nn.Linear(2, 1, bias=True)\n",
    "sigmoid = torch.nn.Sigmoid()\n",
    "\n",
    "# model\n",
    "model = torch.nn.Sequential(input_layer, sigmoid)\n",
    "\n",
    "# define cost/loss & optimizer\n",
    "criterion = torch.nn.BCELoss()\n",
    "optimizer = torch.optim.SGD(model.parameters(), lr=1)  # modified learning rate from 0.1 to 1\n",
    "\n",
    "for step in range(10001):\n",
    "    optimizer.zero_grad()\n",
    "    hypothesis = model(X)\n",
    "\n",
    "    # cost/loss function\n",
    "    cost = criterion(hypothesis, Y)\n",
    "    cost.backward()\n",
    "    optimizer.step()\n",
    "\n",
    "    if step % 1000 == 0:\n",
    "        print(step, cost.item())\n",
    "\n",
    "# for drawing\n",
    "model_params = list(model.parameters())\n",
    "model_weights = model_params[0].data.numpy()\n",
    "model_bias = model_params[1].data.numpy()\n",
    "\n",
    "plt.scatter(X.numpy()[[0,-1], 0], X.numpy()[[0, -1], 1], s=50)\n",
    "plt.scatter(X.numpy()[[1,-1], 0], X.numpy()[[1, -1], 1], c='red', s=50)\n",
    "\n",
    "x_1 = np.arange(-0.1, 1.1, 0.1)\n",
    "y_1 = ((x_1 * model_weights[0,0]) + model_bias[0]) / (-model_weights[0,1])\n",
    "plt.plot(x_1, y_1)\n",
    "\n",
    "plt.legend([\"neuron_1\"], loc=8)\n",
    "plt.show()"
   ],
   "metadata": {
    "collapsed": false,
    "pycharm": {
     "name": "#%%\n"
    }
   }
  },
  {
   "cell_type": "markdown",
   "source": [
    "#### 2.1.3 Limitations\n",
    "![pt](https://github.com/karaopea/cnn/blob/master/images/pt/Slide6.PNG?raw=true)\n",
    "\n",
    "    이러한 방법론으로 인공신경망이 환대를 받고 있을때, xor problem이라는 심각한 문제가 등장합니다.\n",
    "    선을 아무리 잘 그어도 위와같은 문제는 해결할 수 없었습니다.\n",
    "\n",
    "\n",
    "    코드를 살펴보자면,\n",
    "***"
   ],
   "metadata": {
    "collapsed": false
   }
  },
  {
   "cell_type": "code",
   "execution_count": 18,
   "outputs": [
    {
     "name": "stdout",
     "output_type": "stream",
     "text": [
      "0 0.7273974418640137\n",
      "1000 0.6931471824645996\n",
      "2000 0.6931471824645996\n",
      "3000 0.6931471824645996\n",
      "4000 0.6931471824645996\n",
      "5000 0.6931471824645996\n",
      "6000 0.6931471824645996\n",
      "7000 0.6931471824645996\n",
      "8000 0.6931471824645996\n",
      "9000 0.6931471824645996\n",
      "10000 0.6931471824645996\n"
     ]
    },
    {
     "data": {
      "text/plain": "<Figure size 432x288 with 1 Axes>",
      "image/png": "[encoded data removed]"
     },
     "metadata": {
      "needs_background": "light"
     },
     "output_type": "display_data"
    }
   ],
   "source": [
    "torch.manual_seed(777)\n",
    "\n",
    "X = torch.FloatTensor([[0, 0], [0, 1], [1, 0], [1, 1]])\n",
    "Y = torch.FloatTensor([[0], [1], [1], [0]])\n",
    "\n",
    "input_layer = torch.nn.Linear(2, 1, bias=True)\n",
    "sigmoid = torch.nn.Sigmoid()\n",
    "model = torch.nn.Sequential(input_layer, sigmoid)\n",
    "\n",
    "criterion = torch.nn.BCELoss()\n",
    "optimizer = torch.optim.SGD(model.parameters(), lr=1)  # modified learning rate from 0.1 to 1\n",
    "\n",
    "for step in range(10001):\n",
    "    optimizer.zero_grad()\n",
    "    hypothesis = model(X)\n",
    "\n",
    "    cost = criterion(hypothesis, Y)\n",
    "    cost.backward()\n",
    "    optimizer.step()\n",
    "\n",
    "    if step % 1000 == 0:\n",
    "        print(step, cost.item())\n",
    "\n",
    "model_params = list(model.parameters())\n",
    "model_weights = model_params[0].data.numpy()\n",
    "model_bias = model_params[1].data.numpy()\n",
    "\n",
    "plt.scatter(X.numpy()[[0,-1], 0], X.numpy()[[0, -1], 1], s=50)\n",
    "plt.scatter(X.numpy()[[1,2], 0], X.numpy()[[1, 2], 1], c='red', s=50)\n",
    "\n",
    "x_1 = np.arange(-0.1, 1.1, 0.1)\n",
    "y_1 = ((x_1 * model_weights[0,0]) + model_bias[0]) / (-model_weights[0,1])\n",
    "plt.plot(x_1, y_1)\n",
    "\n",
    "plt.legend([\"neuron_1\"], loc=8)\n",
    "plt.show()"
   ],
   "metadata": {
    "collapsed": false,
    "pycharm": {
     "name": "#%%\n"
    }
   }
  },
  {
   "cell_type": "markdown",
   "source": [
    "#### 2.1.4  XOR Problem\n",
    "![pt](https://github.com/karaopea/cnn/blob/master/images/pt/Slide8.PNG?raw=true)\n",
    "\n",
    "    이러한 간단한 문제도 풀지 못한다면서 손가락 질과 함께 첫번째 AI 암흑기로 돌입하게 됩니다.\n",
    "***"
   ],
   "metadata": {
    "collapsed": false
   }
  },
  {
   "cell_type": "markdown",
   "source": [
    "#### 2.1.4 XOR Problem\n",
    "![pt](https://github.com/karaopea/cnn/blob/master/images/pt/Slide10.PNG?raw=true)\n",
    "\n",
    "    XOR은 a,b가 서로 다를때 1이고 같을 때 0을 표현하는 함수를 뜻합니다.\n",
    "    보니까 직선 하나로는 분류를 할 수 없겠다고 생각해서, 직선이 더 있으면 될 것 같다는 생각을 하게 됩니다.\n",
    "***"
   ],
   "metadata": {
    "collapsed": false
   }
  },
  {
   "cell_type": "markdown",
   "source": [
    "#### 2.1.5 Solving XOR Problem\n",
    "![pt](https://github.com/karaopea/cnn/blob/master/images/pt/Slide11.PNG?raw=true)\n",
    "\n",
    "    전에는 x1, x2 에서 바로 y로 전달해었는데, 이제는 중간에 뭐가 하나 생겼죠?\n",
    "    이것을 히든레이어(은닉층)이라고 하고 Multi-layer Perceptron이 등장하게 됩니다.\n",
    "    수식이 좀 어지러워 보이는데 하나만 따라가보죠.\n",
    "    우선 앞에가 a, 뒤가 b입니다. 결과만 보자면 같을때는 0, 다를때는 1값이 잘 나오고 있네요.\n",
    "    (맨 아랫줄 하나씩 설명)\n",
    "    그럼 코드로 구현해볼까요?\n",
    "***"
   ],
   "metadata": {
    "collapsed": false
   }
  },
  {
   "cell_type": "code",
   "execution_count": 17,
   "outputs": [
    {
     "name": "stdout",
     "output_type": "stream",
     "text": [
      "0 0.7434073090553284\n",
      "1000 0.6930999755859375\n",
      "2000 0.6838314533233643\n",
      "3000 0.01398373395204544\n",
      "4000 0.005768375005573034\n",
      "5000 0.0036007347516715527\n",
      "6000 0.0026096487417817116\n",
      "7000 0.00204361486248672\n",
      "8000 0.001678097527474165\n",
      "9000 0.0014228165382519364\n"
     ]
    },
    {
     "data": {
      "text/plain": "<Figure size 432x288 with 1 Axes>",
      "image/png": "[encoded data removed]"
     },
     "metadata": {
      "needs_background": "light"
     },
     "output_type": "display_data"
    }
   ],
   "source": [
    "# for reproducibility\n",
    "torch.manual_seed(777)\n",
    "\n",
    "X = torch.FloatTensor([[0, 0], [0, 1], [1, 0], [1, 1]])\n",
    "Y = torch.FloatTensor([[0], [1], [1], [0]])\n",
    "\n",
    "# nn layers\n",
    "input_layer = torch.nn.Linear(2, 2, bias=True)\n",
    "hidden = torch.nn.Linear(2, 1, bias=True)\n",
    "sigmoid = torch.nn.Sigmoid()\n",
    "\n",
    "# model\n",
    "model = torch.nn.Sequential(input_layer, sigmoid, hidden, sigmoid)\n",
    "\n",
    "# define cost/loss & optimizer\n",
    "criterion = torch.nn.BCELoss()\n",
    "optimizer = torch.optim.SGD(model.parameters(), lr=1)  # modified learning rate from 0.1 to 1\n",
    "\n",
    "for step in range(10001):\n",
    "    optimizer.zero_grad()\n",
    "    hypothesis = model(X)\n",
    "\n",
    "    # cost/loss function\n",
    "    cost = criterion(hypothesis, Y)\n",
    "    cost.backward()\n",
    "    optimizer.step()\n",
    "\n",
    "    if step % 1000 == 0:\n",
    "        print(step, cost.item())\n",
    "\n",
    "model_params = list(model.parameters())\n",
    "model_weights = model_params[0].data.numpy()\n",
    "model_bias = model_params[1].data.numpy()\n",
    "\n",
    "plt.scatter(X.numpy()[[0,-1], 0], X.numpy()[[0, -1], 1], s=50)\n",
    "plt.scatter(X.numpy()[[1,2], 0], X.numpy()[[1, 2], 1], c='red', s=50)\n",
    "\n",
    "x_1 = np.arange(-0.1, 1.1, 0.1)\n",
    "y_1 = ((x_1 * model_weights[0,0]) + model_bias[0]) / (-model_weights[0,1])\n",
    "plt.plot(x_1, y_1)\n",
    "\n",
    "x_2 = np.arange(-0.1, 1.1, 0.1)\n",
    "y_2 = ((x_2 * model_weights[1,0]) + model_bias[1]) / (-model_weights[1,1])\n",
    "plt.plot(x_2, y_2)\n",
    "\n",
    "plt.legend([\"neuron_1\", \"neuron_2\"], loc=8)\n",
    "plt.show()"
   ],
   "metadata": {
    "collapsed": false,
    "pycharm": {
     "name": "#%%\n"
    }
   }
  },
  {
   "cell_type": "markdown",
   "source": [
    "    하나의 히든레이어를 추가함으로써 XOR문제를 해결하는 것을 볼 수 있습니다."
   ],
   "metadata": {
    "collapsed": false
   }
  },
  {
   "cell_type": "markdown",
   "source": [
    "#### 2.1.4  Multi-layer Perceptron\n",
    "![pt](https://github.com/karaopea/cnn/blob/master/images/pt/Slide13.PNG?raw=true)\n",
    "\n",
    "    우리는 이러한 문제에 좀 더 직관적으로 이해할 필요가 있습니다.\n",
    "    이해를 돕기위해 오른쪽 붉은점과 파란점을 색상을 좀 바꾸겠습니다.\n",
    "***"
   ],
   "metadata": {
    "collapsed": false
   }
  },
  {
   "cell_type": "markdown",
   "source": [
    "#### 2.1.4  Multi-layer Perceptron\n",
    "![pt](https://github.com/karaopea/cnn/blob/master/images/pt/Slide14.PNG?raw=true)\n",
    "\n",
    "    뉴런이 어떠한 방향으로 프로젝션을 할 수 있다고 생각해보시면,\n",
    "    프로젝션은 그위치에 어느 한 방향으로 본다고 생각하시면 편합니다.\n",
    "    오른쪽위에서 왼쪽아래로 프로젝션하는 뉴런에게 보이는 모습은 오른쪽과 같을 겁니다.\n",
    "    보라색은 왼쪽에 있고, 초록과 빨강은 겹쳐보일테고, 파랑은 오른쪽에 있겠죠\n",
    "    다른 뉴런은 아래와 왼쪽과 같이 보일겁니다.\n",
    "***"
   ],
   "metadata": {
    "collapsed": false
   }
  },
  {
   "cell_type": "markdown",
   "source": [
    "#### 2.1.4  Multi-layer Perceptron\n",
    "![pt](https://github.com/karaopea/cnn/blob/master/images/pt/Slide15.PNG?raw=true)\n",
    "\n",
    "    sigmoid함수를 지나면 0~1 사이에 값들로 치환이 될겁니다.\n",
    "    0과 0이하의 값들은 0에 가깝게 모일테고 4를 넘는값들은 1에 가깝게 모이겠죠?\n",
    "***"
   ],
   "metadata": {
    "collapsed": false
   }
  },
  {
   "cell_type": "markdown",
   "source": [
    "#### 2.1.4  Multi-layer Perceptron\n",
    "![pt](https://github.com/karaopea/cnn/blob/master/images/pt/Slide16.PNG?raw=true)\n",
    "\n",
    "    그럼 output 뉴런에 관점에서 오른쪽아래에서 왼쪽위로 다시 프로젝트를 해보면\n",
    "    초록과빨강은 모이게되고, 파랑과 보라가 모이게 될 겁니다.\n",
    "***"
   ],
   "metadata": {
    "collapsed": false
   }
  },
  {
   "cell_type": "markdown",
   "source": [
    "#### 2.1.4  Multi-layer Perceptron\n",
    "![pt](https://github.com/karaopea/cnn/blob/master/images/pt/Slide17.PNG?raw=true)\n",
    "[Multi-layer Perceptron](https://playground.tensorflow.org)\n",
    "\n",
    "    0.5의 값으로 나누게 되면, 빨강과 파랑을 분류할 수 있습니다.\n",
    "    이렇게 Neural Network의 layer들을 한층 씩 통과하면서 고차원적인 차원으로 이동하여,\n",
    "    xor문제를 해결할 수 있게 된다는 것을 직관적으로 이해할 수 있습니다.\n",
    "***"
   ],
   "metadata": {
    "collapsed": false
   }
  },
  {
   "cell_type": "markdown",
   "source": [
    "#### 2.1.5  Batch / Stochastic Gradient Decent\n",
    "![pt](https://github.com/karaopea/cnn/blob/master/images/pt/Slide20.PNG?raw=true)\n",
    "\n",
    "\n",
    "    0.5의 값으로 나누게 되면, 빨강과 파랑을 분류할 수 있습니다.\n",
    "    이렇게 Neural Network의 layer들을 한층 씩 통과하면서 고차원적인 차원으로 이동하여,\n",
    "    xor문제를 해결할 수 있게 된다는 것을 직관적으로 이해할 수 있습니다.\n",
    "\n",
    "\n",
    "***"
   ],
   "metadata": {
    "collapsed": false
   }
  },
  {
   "cell_type": "markdown",
   "source": [
    "  <br /> <br /> <br /> <br /> <br /> <br /> <br /> <br /> <br /> <br /> <br /> <br /> <br /> <br /> <br /> <br /> <br /> <br /> <br />"
   ],
   "metadata": {
    "collapsed": false
   }
  },
  {
   "cell_type": "markdown",
   "source": [
    "## 2. **Deep Learning** ~~for Computer Vision~~\n",
    "### 1.1  Computer Vision is Everywhere!\n",
    "![pt](https://github.com/karaopea/cnn/blob/master/images/498_FA2019_lecture01.pdf_page_09.jpg?raw=true)\n",
    "> 498_FA2019_lecture01\n",
    "\n",
    "\n",
    "\n",
    "\n",
    "\n"
   ],
   "metadata": {
    "collapsed": false,
    "pycharm": {
     "name": "#%% md\n"
    }
   }
  }
 ],
 "metadata": {
  "colab": {
   "collapsed_sections": [],
   "name": "Untitled2.ipynb",
   "provenance": []
  },
  "kernelspec": {
   "display_name": "Python 3",
   "language": "python",
   "name": "python3"
  },
  "language_info": {
   "codemirror_mode": {
    "name": "ipython",
    "version": 3
   },
   "file_extension": ".py",
   "mimetype": "text/x-python",
   "name": "python",
   "nbconvert_exporter": "python",
   "pygments_lexer": "ipython3",
   "version": "3.7.8"
  }
 },
 "nbformat": 4,
 "nbformat_minor": 1
}