{
 "cells": [
  {
   "cell_type": "markdown",
   "metadata": {
    "id": "SEuxdJJYb6qa",
    "pycharm": {
     "name": "#%% md\n"
    }
   },
   "source": [
    "![이미지 이름](images/498_FA2019_lecture01.pdf_page_08.jpg)\n",
    "\n"
   ]
  },
  {
   "cell_type": "code",
   "execution_count": 3,
   "outputs": [],
   "source": [
    "from IPython.display import HTML\n",
    "\n",
    "#HTML('<iframe width=\"560\" height=\"315\" src=\"https://www.youtube.com/embed/lTTZ8PkQ_Pk\" frameborder=\"0\" allow=\"accelerometer; autoplay; encrypted-media; gyroscope; picture-in-picture\" allowfullscreen></iframe>')"
   ],
   "metadata": {
    "collapsed": false,
    "pycharm": {
     "name": "#%%\n"
    }
   }
  }
 ],
 "metadata": {
  "colab": {
   "collapsed_sections": [],
   "name": "Untitled2.ipynb",
   "provenance": []
  },
  "kernelspec": {
   "display_name": "Python 3",
   "language": "python",
   "name": "python3"
  },
  "language_info": {
   "codemirror_mode": {
    "name": "ipython",
    "version": 3
   },
   "file_extension": ".py",
   "mimetype": "text/x-python",
   "name": "python",
   "nbconvert_exporter": "python",
   "pygments_lexer": "ipython3",
   "version": "3.7.8"
  }
 },
 "nbformat": 4,
 "nbformat_minor": 1
}