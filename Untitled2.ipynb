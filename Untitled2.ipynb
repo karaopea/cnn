{
 "cells": [
  {
   "cell_type": "markdown",
   "metadata": {
    "id": "SEuxdJJYb6qa",
    "pycharm": {
     "name": "#%% md\n"
    }
   },
   "source": [
    "# Deep Learning for Computer Vision\n",
    "***\n",
    "## Plan for this lecture\n",
    "1. ~~Deep Learning for~~ Computer Vision\n",
    "2. Deep Learning ~~for Computer Vision~~\n",
    "3. Deep Learning for Computer Vision\n",
    "\n",
    "***\n",
    "\n",
    "\n",
    "## 1. ~~Deep Learning for~~ Computer Vision\n",
    "![pt](https://github.com/karaopea/cnn/blob/master/images/498_FA2019_lecture01.pdf_page_08.jpg?raw=true)\n",
    "\n"
   ]
  },
  {
   "cell_type": "code",
   "execution_count": 7,
   "outputs": [],
   "source": [
    "from IPython.display import HTML\n",
    "#HTML('<iframe width=\"560\" height=\"315\" src=\"https://www.youtube.com/embed/lTTZ8PkQ_Pk\" frameborder=\"0\" allow=\"accelerometer; autoplay; encrypted-media; gyroscope; picture-in-picture\" allowfullscreen></iframe>')"
   ],
   "metadata": {
    "collapsed": false,
    "pycharm": {
     "name": "#%%\n"
    }
   }
  }
 ],
 "metadata": {
  "colab": {
   "collapsed_sections": [],
   "name": "Untitled2.ipynb",
   "provenance": []
  },
  "kernelspec": {
   "display_name": "Python 3",
   "language": "python",
   "name": "python3"
  },
  "language_info": {
   "codemirror_mode": {
    "name": "ipython",
    "version": 3
   },
   "file_extension": ".py",
   "mimetype": "text/x-python",
   "name": "python",
   "nbconvert_exporter": "python",
   "pygments_lexer": "ipython3",
   "version": "3.7.8"
  }
 },
 "nbformat": 4,
 "nbformat_minor": 1
}