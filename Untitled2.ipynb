{
 "cells": [
  {
   "cell_type": "code",
   "execution_count": 5,
   "outputs": [],
   "source": [
    "from IPython.display import HTML\n",
    "#HTML('<iframe width=\"560\" height=\"315\" src=\"https://www.youtube.com/embed/lTTZ8PkQ_Pk\" frameborder=\"0\" allow=\"accelerometer; autoplay; encrypted-media; gyroscope; picture-in-picture\" allowfullscreen></iframe>')\n",
    "\n"
   ],
   "metadata": {
    "collapsed": false,
    "pycharm": {
     "name": "#%%\n"
    }
   }
  },
  {
   "cell_type": "markdown",
   "source": [
    "AI Jump-up 교육은 실습위주 교육이라고 들어서 실습을 중간중간 실습할 수 있도록\n",
    "강의를 준비하게 되었고, 그래서 발표자료와 실습을 왔다갔다하는 문제를 방지하기 위해\n",
    "MD5로 자료를 만들게 되었습니다."
   ],
   "metadata": {
    "collapsed": false,
    "pycharm": {
     "name": "#%% md\n"
    }
   }
  },
  {
   "cell_type": "markdown",
   "metadata": {
    "id": "SEuxdJJYb6qa",
    "pycharm": {
     "name": "#%% md\n"
    }
   },
   "source": [
    "# Deep Learning for Computer Vision\n",
    "***\n",
    "\n",
    "## Plan for this lecture\n",
    "1. ~~Deep Learning for~~ **Computer Vision**\n",
    "2. **Deep Learning** ~~for Computer Vision~~\n",
    "3. **Deep Learning for Computer Vision**\n",
    "\n",
    "***"
   ]
  },
  {
   "cell_type": "code",
   "execution_count": 10,
   "outputs": [
    {
     "name": "stdout",
     "output_type": "stream",
     "text": [
      "import done.\n"
     ]
    }
   ],
   "source": [
    "import torch\n",
    "import torch.nn as nn\n",
    "import torch.nn.functional as F\n",
    "import torch.optim as optim\n",
    "import numpy as np\n",
    "import matplotlib.pyplot as plt\n",
    "print('import done.')"
   ],
   "metadata": {
    "collapsed": false,
    "pycharm": {
     "name": "#%%\n"
    }
   }
  },
  {
   "cell_type": "markdown",
   "source": [
    "## 1. ~~Deep Learning for~~ Computer Vision\n",
    "### 1.1  Computer Vision is Everywhere!\n",
    "![pt](https://github.com/karaopea/cnn/blob/master/images/498_FA2019_lecture01.pdf_page_09.jpg?raw=true\n",
    "> 498_FA2019_lecture01\n",
    "***"
   ],
   "metadata": {
    "collapsed": false
   }
  },
  {
   "cell_type": "markdown",
   "source": [
    "## 2. **Deep Learning** ~~for Computer Vision~~\n",
    "### 2.1  Recap:Deep Learning\n",
    "![pt](https://github.com/karaopea/cnn/blob/master/images/498_FA2019_lecture01.pdf_page_09.jpg?raw=true\n",
    "\n",
    "    이번 섹션에서 딥러닝의 핵심적인 내용들을 되짚고 CNN을 진행하겠습니다.\n",
    "***"
   ],
   "metadata": {
    "collapsed": false,
    "pycharm": {
     "name": "#%% md\n"
    }
   }
  },
  {
   "cell_type": "markdown",
   "source": [
    "#### 2.1.1  Real neuron\n",
    "![pt](https://github.com/karaopea/cnn/blob/master/images/pt/Slide2.PNG?raw=true)\n",
    "\n",
    "    이 그림은 모든 Neural Network을 얘기할때 꼭 나오는 뉴런 그림이죠? 지겨운 분들도 있을 것 같습니다.\n",
    "    생물학적 백그라운드를 조금 알고 가면 좋을 것 같아 다시 준비 했습니다.\n",
    "    키워드는,\n",
    "    Dendrite에서 다른 뉴런들의 신호를 받아 Soma에서 상태값을 이용하여 매우 간단한 연산을하고 Axon을 통해\n",
    "    다른 뉴런들에게 전달할지 말지 결정합니다. NN은 이런 인간의 뇌 구조를 모방하여 만들었습니다.\n",
    "    (보신 우리 뇌에는 860억개의 뉴런이 있다고합니다.)\n",
    "***"
   ],
   "metadata": {
    "collapsed": false
   }
  },
  {
   "cell_type": "markdown",
   "source": [
    "#### 2.1.1  Real neuron\n",
    "![pt](https://github.com/karaopea/cnn/blob/master/images/pt/Slide90.PNG?raw=true)\n",
    "\n",
    "    이 뉴런을 단순화해서 표현을 할껀데, 요게 뭡니까? 소죠?\n",
    "    이게 피카소의 작품인데요, 소에서 점점 단순화되다가 결국 이렇게 되버렸죠.\n",
    "    뿔은 무슨 더듬이처럼 됬고, 꼬리가 있네요, 다리도 네개고.\n",
    "    그리고 몸통에.. 수컷이네요 수컷.\n",
    "\n",
    "    자 그러면 뉴런은 어떻게 표현할까냐는건데, 엄청 간단합니다.\n",
    "    소에서 저렇게 특징적인것만 표현했듯이\n",
    "    뉴런도 다른 뉴런들에게서 받아 출력을 내는 그림으로 간단히 표현할 수 있습니다.\n",
    "    이게 여러개 있으면 인공신경망, 뉴럴네트워크다 이렇게 말할 수 있습니다.\n",
    "***"
   ],
   "metadata": {
    "collapsed": false
   }
  },
  {
   "cell_type": "markdown",
   "source": [
    "#### 2.1.1  Artificial neuron\n",
    "![pt](https://github.com/karaopea/cnn/blob/master/images/pt/Slide3.PNG?raw=true)\n",
    "\n",
    "    오해하지말아야 할 것은 뇌구조와 똑같게 만들었다는 뜻은 아니며, 신경생리학적인 부분을 모델링한 것입니다.\n",
    "    인공신경망의 뉴런 구조는 상태를 저장할 수 있는 weight ,bias 값을 이용하여\n",
    "    input을 다음 뉴런에게 전달할지 결정하는 구조로 만들어져 있습니다.\n",
    "\n",
    "\n",
    "***"
   ],
   "metadata": {
    "collapsed": false
   }
  },
  {
   "cell_type": "markdown",
   "source": [
    "#### 2.1.1  Artificial neuron\n",
    "![pt](https://github.com/karaopea/cnn/blob/master/images/pt/Slide4.PNG?raw=true)\n",
    "\n",
    "    위 그래프를 보면서 설명드리자면, 파란,붉은점들은 input이라 볼 수 있으며,\n",
    "    점선으로 표시된 weight를 표현하고 있습니다.\n",
    "    다양한 점선들은 weight에 따라 input을 어떻게 프로젝션 할 수 있는 지 보여주고 있습니다.\n",
    "    그럼 파란점과 붉은점을 나누는 간단한 인공신경망을 만들어 보겠습니다\n",
    "***\n",
    "    "
   ],
   "metadata": {
    "collapsed": false
   }
  },
  {
   "cell_type": "code",
   "execution_count": 9,
   "outputs": [
    {
     "name": "stdout",
     "output_type": "stream",
     "text": [
      "0 0.8787848949432373\n",
      "100 0.031843241304159164\n",
      "200 0.01561209186911583\n",
      "300 0.010310246609151363\n",
      "400 0.007689629681408405\n",
      "500 0.006128851789981127\n",
      "600 0.005093665327876806\n",
      "700 0.004357174504548311\n",
      "800 0.0038064371328800917\n",
      "900 0.0033791568130254745\n",
      "1000 0.003038016613572836\n",
      "1100 0.002759332535788417\n",
      "1200 0.0025274157524108887\n",
      "1300 0.0023314435966312885\n",
      "1400 0.002163655124604702\n",
      "1500 0.0020184190943837166\n",
      "1600 0.0018913940293714404\n",
      "1700 0.001779347425326705\n",
      "1800 0.0016799147706478834\n",
      "1900 0.0015909720677882433\n",
      "2000 0.001510934205725789\n",
      "2100 0.001438634586520493\n",
      "2200 0.0013728475896641612\n",
      "2300 0.0013128553982824087\n",
      "2400 0.001257851254194975\n",
      "2500 0.0012072670506313443\n",
      "2600 0.0011606246698647738\n",
      "2700 0.0011174760293215513\n",
      "2800 0.0010773728135973215\n",
      "2900 0.001040046219713986\n",
      "3000 0.0010051975259557366\n",
      "3100 0.0009726473945192993\n",
      "3200 0.0009421569993719459\n",
      "3300 0.0009134873980656266\n",
      "3400 0.0008865490090101957\n",
      "3500 0.0008610731456428766\n",
      "3600 0.0008370893774554133\n",
      "3700 0.0008143592276610434\n",
      "3800 0.0007928823470138013\n",
      "3900 0.0007725096074864268\n",
      "4000 0.0007530620787292719\n",
      "4100 0.0007346289930865169\n",
      "4200 0.00071709108306095\n",
      "4300 0.0007003886275924742\n",
      "4400 0.0006844023009762168\n",
      "4500 0.0006691618473269045\n",
      "4600 0.0006545479991473258\n",
      "4700 0.0006405904423445463\n",
      "4800 0.0006272295722737908\n",
      "4900 0.0006143759237602353\n",
      "5000 0.0006020592409186065\n",
      "5100 0.0005902198608964682\n",
      "5200 0.0005788578419014812\n",
      "5300 0.0005679134046658874\n",
      "5400 0.0005573567468672991\n",
      "5500 0.0005471879267133772\n",
      "5600 0.0005373770836740732\n",
      "5700 0.0005279241595417261\n",
      "5800 0.0005187992937862873\n",
      "5900 0.0005100026028230786\n",
      "6000 0.0005014445632696152\n",
      "6100 0.00049321458209306\n",
      "6200 0.00048525299644097686\n",
      "6300 0.0004775002598762512\n",
      "6400 0.00047007555258460343\n",
      "6500 0.0004627702001016587\n",
      "6600 0.0004557630745694041\n",
      "6700 0.00044896473991684616\n",
      "6800 0.00044237516704015434\n",
      "6900 0.0004359347512945533\n",
      "7000 0.00042970303911715746\n",
      "7100 0.0004236204840708524\n",
      "7200 0.00041771685937419534\n",
      "7300 0.00041199219413101673\n",
      "7400 0.0004064165987074375\n",
      "7500 0.0004009603289887309\n",
      "7600 0.00039571279194206\n",
      "7700 0.00039055474917404354\n",
      "7800 0.0003855159739032388\n",
      "7900 0.000380656128982082\n",
      "8000 0.00037585594691336155\n",
      "8100 0.00037120486376807094\n",
      "8200 0.0003667028504423797\n",
      "8300 0.00036226052907295525\n",
      "8400 0.000357937446096912\n",
      "8500 0.00035370385739952326\n",
      "8600 0.0003495895361993462\n",
      "8700 0.00034553484874777496\n",
      "8800 0.0003415994578972459\n",
      "8900 0.00033778330544009805\n",
      "9000 0.0003340268158353865\n",
      "9100 0.00033032995997928083\n",
      "9200 0.00032672256929799914\n",
      "9300 0.0003232642193324864\n",
      "9400 0.00031974632292985916\n",
      "9500 0.00031643707188777626\n",
      "9600 0.0003130980476271361\n",
      "9700 0.00030987829086370766\n",
      "9800 0.00030668836552649736\n",
      "9900 0.0003036176785826683\n",
      "10000 0.00030057679396122694\n"
     ]
    },
    {
     "data": {
      "text/plain": "<Figure size 432x288 with 1 Axes>",
      "image/png": "[encoded data removed]"
     },
     "metadata": {
      "needs_background": "light"
     },
     "output_type": "display_data"
    }
   ],
   "source": [
    "# for reproducibility\n",
    "torch.manual_seed(777)\n",
    "\n",
    "X = torch.FloatTensor([[0, 0], [1, 1]])\n",
    "Y = torch.FloatTensor([[0],[1]])\n",
    "\n",
    "# nn layers\n",
    "linear2 = torch.nn.Linear(2, 1, bias=True)\n",
    "sigmoid = torch.nn.Sigmoid()\n",
    "\n",
    "# model\n",
    "model = torch.nn.Sequential(linear2, sigmoid)\n",
    "\n",
    "# define cost/loss & optimizer\n",
    "criterion = torch.nn.BCELoss()\n",
    "optimizer = torch.optim.SGD(model.parameters(), lr=1)  # modified learning rate from 0.1 to 1\n",
    "\n",
    "for step in range(10001):\n",
    "    optimizer.zero_grad()\n",
    "    hypothesis = model(X)\n",
    "\n",
    "    # cost/loss function\n",
    "    cost = criterion(hypothesis, Y)\n",
    "    cost.backward()\n",
    "    optimizer.step()\n",
    "\n",
    "    if step % 100 == 0:\n",
    "        print(step, cost.item())\n",
    "\n",
    "model_params = list(model.parameters())\n",
    "model_weights = model_params[0].data.numpy()\n",
    "model_bias = model_params[1].data.numpy()\n",
    "\n",
    "plt.scatter(X.numpy()[[0,-1], 0], X.numpy()[[0, -1], 1], s=50)\n",
    "plt.scatter(X.numpy()[[1,-1], 0], X.numpy()[[1, -1], 1], c='red', s=50)\n",
    "\n",
    "x_1 = np.arange(-0.1, 1.1, 0.1)\n",
    "y_1 = ((x_1 * model_weights[0,0]) + model_bias[0]) / (-model_weights[0,1])\n",
    "plt.plot(x_1, y_1)\n",
    "\n",
    "plt.legend([\"neuron_1\"], loc=8)\n",
    "plt.show()\n"
   ],
   "metadata": {
    "collapsed": false,
    "pycharm": {
     "name": "#%%\n"
    }
   }
  },
  {
   "cell_type": "markdown",
   "source": [
    "  <br /> <br /> <br /> <br /> <br /> <br /> <br /> <br /> <br /> <br /> <br /> <br /> <br /> <br /> <br /> <br /> <br /> <br /> <br />"
   ],
   "metadata": {
    "collapsed": false
   }
  },
  {
   "cell_type": "markdown",
   "source": [
    "## 2. **Deep Learning** ~~for Computer Vision~~\n",
    "### 1.1  Computer Vision is Everywhere!\n",
    "![pt](https://github.com/karaopea/cnn/blob/master/images/498_FA2019_lecture01.pdf_page_09.jpg?raw=true)\n",
    "> 498_FA2019_lecture01\n"
   ],
   "metadata": {
    "collapsed": false,
    "pycharm": {
     "name": "#%% md\n"
    }
   }
  },
  {
   "cell_type": "code",
   "execution_count": 8,
   "outputs": [
    {
     "ename": "ValueError",
     "evalue": "Target and input must have the same number of elements. target nelement (2) != input nelement (4)",
     "output_type": "error",
     "traceback": [
      "\u001B[1;31m---------------------------------------------------------------------------\u001B[0m",
      "\u001B[1;31mValueError\u001B[0m                                Traceback (most recent call last)",
      "\u001B[1;32m<ipython-input-8-3a6cc4279bba>\u001B[0m in \u001B[0;36m<module>\u001B[1;34m\u001B[0m\n\u001B[0;32m     26\u001B[0m \u001B[1;33m\u001B[0m\u001B[0m\n\u001B[0;32m     27\u001B[0m     \u001B[1;31m# cost/loss function\u001B[0m\u001B[1;33m\u001B[0m\u001B[1;33m\u001B[0m\u001B[1;33m\u001B[0m\u001B[0m\n\u001B[1;32m---> 28\u001B[1;33m     \u001B[0mcost\u001B[0m \u001B[1;33m=\u001B[0m \u001B[0mcriterion\u001B[0m\u001B[1;33m(\u001B[0m\u001B[0mhypothesis\u001B[0m\u001B[1;33m,\u001B[0m \u001B[0mY\u001B[0m\u001B[1;33m)\u001B[0m\u001B[1;33m\u001B[0m\u001B[1;33m\u001B[0m\u001B[0m\n\u001B[0m\u001B[0;32m     29\u001B[0m     \u001B[0mcost\u001B[0m\u001B[1;33m.\u001B[0m\u001B[0mbackward\u001B[0m\u001B[1;33m(\u001B[0m\u001B[1;33m)\u001B[0m\u001B[1;33m\u001B[0m\u001B[1;33m\u001B[0m\u001B[0m\n\u001B[0;32m     30\u001B[0m     \u001B[0moptimizer\u001B[0m\u001B[1;33m.\u001B[0m\u001B[0mstep\u001B[0m\u001B[1;33m(\u001B[0m\u001B[1;33m)\u001B[0m\u001B[1;33m\u001B[0m\u001B[1;33m\u001B[0m\u001B[0m\n",
      "\u001B[1;32m~\\Anaconda3\\lib\\site-packages\\torch\\nn\\modules\\module.py\u001B[0m in \u001B[0;36m__call__\u001B[1;34m(self, *input, **kwargs)\u001B[0m\n\u001B[0;32m    539\u001B[0m             \u001B[0mresult\u001B[0m \u001B[1;33m=\u001B[0m \u001B[0mself\u001B[0m\u001B[1;33m.\u001B[0m\u001B[0m_slow_forward\u001B[0m\u001B[1;33m(\u001B[0m\u001B[1;33m*\u001B[0m\u001B[0minput\u001B[0m\u001B[1;33m,\u001B[0m \u001B[1;33m**\u001B[0m\u001B[0mkwargs\u001B[0m\u001B[1;33m)\u001B[0m\u001B[1;33m\u001B[0m\u001B[1;33m\u001B[0m\u001B[0m\n\u001B[0;32m    540\u001B[0m         \u001B[1;32melse\u001B[0m\u001B[1;33m:\u001B[0m\u001B[1;33m\u001B[0m\u001B[1;33m\u001B[0m\u001B[0m\n\u001B[1;32m--> 541\u001B[1;33m             \u001B[0mresult\u001B[0m \u001B[1;33m=\u001B[0m \u001B[0mself\u001B[0m\u001B[1;33m.\u001B[0m\u001B[0mforward\u001B[0m\u001B[1;33m(\u001B[0m\u001B[1;33m*\u001B[0m\u001B[0minput\u001B[0m\u001B[1;33m,\u001B[0m \u001B[1;33m**\u001B[0m\u001B[0mkwargs\u001B[0m\u001B[1;33m)\u001B[0m\u001B[1;33m\u001B[0m\u001B[1;33m\u001B[0m\u001B[0m\n\u001B[0m\u001B[0;32m    542\u001B[0m         \u001B[1;32mfor\u001B[0m \u001B[0mhook\u001B[0m \u001B[1;32min\u001B[0m \u001B[0mself\u001B[0m\u001B[1;33m.\u001B[0m\u001B[0m_forward_hooks\u001B[0m\u001B[1;33m.\u001B[0m\u001B[0mvalues\u001B[0m\u001B[1;33m(\u001B[0m\u001B[1;33m)\u001B[0m\u001B[1;33m:\u001B[0m\u001B[1;33m\u001B[0m\u001B[1;33m\u001B[0m\u001B[0m\n\u001B[0;32m    543\u001B[0m             \u001B[0mhook_result\u001B[0m \u001B[1;33m=\u001B[0m \u001B[0mhook\u001B[0m\u001B[1;33m(\u001B[0m\u001B[0mself\u001B[0m\u001B[1;33m,\u001B[0m \u001B[0minput\u001B[0m\u001B[1;33m,\u001B[0m \u001B[0mresult\u001B[0m\u001B[1;33m)\u001B[0m\u001B[1;33m\u001B[0m\u001B[1;33m\u001B[0m\u001B[0m\n",
      "\u001B[1;32m~\\Anaconda3\\lib\\site-packages\\torch\\nn\\modules\\loss.py\u001B[0m in \u001B[0;36mforward\u001B[1;34m(self, input, target)\u001B[0m\n\u001B[0;32m    496\u001B[0m \u001B[1;33m\u001B[0m\u001B[0m\n\u001B[0;32m    497\u001B[0m     \u001B[1;32mdef\u001B[0m \u001B[0mforward\u001B[0m\u001B[1;33m(\u001B[0m\u001B[0mself\u001B[0m\u001B[1;33m,\u001B[0m \u001B[0minput\u001B[0m\u001B[1;33m,\u001B[0m \u001B[0mtarget\u001B[0m\u001B[1;33m)\u001B[0m\u001B[1;33m:\u001B[0m\u001B[1;33m\u001B[0m\u001B[1;33m\u001B[0m\u001B[0m\n\u001B[1;32m--> 498\u001B[1;33m         \u001B[1;32mreturn\u001B[0m \u001B[0mF\u001B[0m\u001B[1;33m.\u001B[0m\u001B[0mbinary_cross_entropy\u001B[0m\u001B[1;33m(\u001B[0m\u001B[0minput\u001B[0m\u001B[1;33m,\u001B[0m \u001B[0mtarget\u001B[0m\u001B[1;33m,\u001B[0m \u001B[0mweight\u001B[0m\u001B[1;33m=\u001B[0m\u001B[0mself\u001B[0m\u001B[1;33m.\u001B[0m\u001B[0mweight\u001B[0m\u001B[1;33m,\u001B[0m \u001B[0mreduction\u001B[0m\u001B[1;33m=\u001B[0m\u001B[0mself\u001B[0m\u001B[1;33m.\u001B[0m\u001B[0mreduction\u001B[0m\u001B[1;33m)\u001B[0m\u001B[1;33m\u001B[0m\u001B[1;33m\u001B[0m\u001B[0m\n\u001B[0m\u001B[0;32m    499\u001B[0m \u001B[1;33m\u001B[0m\u001B[0m\n\u001B[0;32m    500\u001B[0m \u001B[1;33m\u001B[0m\u001B[0m\n",
      "\u001B[1;32m~\\Anaconda3\\lib\\site-packages\\torch\\nn\\functional.py\u001B[0m in \u001B[0;36mbinary_cross_entropy\u001B[1;34m(input, target, weight, size_average, reduce, reduction)\u001B[0m\n\u001B[0;32m   2056\u001B[0m     \u001B[1;32mif\u001B[0m \u001B[0minput\u001B[0m\u001B[1;33m.\u001B[0m\u001B[0mnumel\u001B[0m\u001B[1;33m(\u001B[0m\u001B[1;33m)\u001B[0m \u001B[1;33m!=\u001B[0m \u001B[0mtarget\u001B[0m\u001B[1;33m.\u001B[0m\u001B[0mnumel\u001B[0m\u001B[1;33m(\u001B[0m\u001B[1;33m)\u001B[0m\u001B[1;33m:\u001B[0m\u001B[1;33m\u001B[0m\u001B[1;33m\u001B[0m\u001B[0m\n\u001B[0;32m   2057\u001B[0m         raise ValueError(\"Target and input must have the same number of elements. target nelement ({}) \"\n\u001B[1;32m-> 2058\u001B[1;33m                          \"!= input nelement ({})\".format(target.numel(), input.numel()))\n\u001B[0m\u001B[0;32m   2059\u001B[0m \u001B[1;33m\u001B[0m\u001B[0m\n\u001B[0;32m   2060\u001B[0m     \u001B[1;32mif\u001B[0m \u001B[0mweight\u001B[0m \u001B[1;32mis\u001B[0m \u001B[1;32mnot\u001B[0m \u001B[1;32mNone\u001B[0m\u001B[1;33m:\u001B[0m\u001B[1;33m\u001B[0m\u001B[1;33m\u001B[0m\u001B[0m\n",
      "\u001B[1;31mValueError\u001B[0m: Target and input must have the same number of elements. target nelement (2) != input nelement (4)"
     ]
    }
   ],
   "source": [
    "# for reproducibility\n",
    "torch.manual_seed(777)\n",
    "\n",
    "#X = torch.FloatTensor([[0, 0], [0, 1], [1, 0], [1, 1]])\n",
    "X = torch.FloatTensor([[0, 0], [1, 1]])\n",
    "\n",
    "#Y = torch.FloatTensor([[0], [1], [1], [0]])\n",
    "Y = torch.FloatTensor([[0],[1]])\n",
    "\n",
    "# nn layers\n",
    "linear1 = torch.nn.Linear(2, 2, bias=True)\n",
    "#linear2 = torch.nn.Linear(2, 1, bias=True)\n",
    "sigmoid = torch.nn.Sigmoid()\n",
    "\n",
    "# model\n",
    "#model = torch.nn.Sequential(linear1, sigmoid, linear2, sigmoid)\n",
    "model = torch.nn.Sequential(linear1, sigmoid)\n",
    "\n",
    "# define cost/loss & optimizer\n",
    "criterion = torch.nn.BCELoss()\n",
    "optimizer = torch.optim.SGD(model.parameters(), lr=1)  # modified learning rate from 0.1 to 1\n",
    "\n",
    "for step in range(10001):\n",
    "    optimizer.zero_grad()\n",
    "    hypothesis = model(X)\n",
    "\n",
    "    # cost/loss function\n",
    "    cost = criterion(hypothesis, Y)\n",
    "    cost.backward()\n",
    "    optimizer.step()\n",
    "\n",
    "    if step % 100 == 0:\n",
    "        print(step, cost.item())\n",
    "\n",
    "model_params = list(model.parameters())\n",
    "model_weights = model_params[0].data.numpy()\n",
    "model_bias = model_params[1].data.numpy()\n",
    "\n",
    "plt.scatter(X.numpy()[[0,-1], 0], X.numpy()[[0, -1], 1], s=50)\n",
    "plt.scatter(X.numpy()[[1,2], 0], X.numpy()[[1, 2], 1], c='red', s=50)\n",
    "\n",
    "x_1 = np.arange(-0.1, 1.1, 0.1)\n",
    "y_1 = ((x_1 * model_weights[0,0]) + model_bias[0]) / (-model_weights[0,1])\n",
    "plt.plot(x_1, y_1)\n",
    "\n",
    "x_2 = np.arange(-0.1, 1.1, 0.1)\n",
    "y_2 = ((x_2 * model_weights[1,0]) + model_bias[1]) / (-model_weights[1,1])\n",
    "plt.plot(x_2, y_2)\n",
    "plt.legend([\"neuron_1\", \"neuron_2\"], loc=8)\n",
    "plt.show()"
   ],
   "metadata": {
    "collapsed": false,
    "pycharm": {
     "name": "#%%\n"
    }
   }
  },
  {
   "cell_type": "code",
   "execution_count": null,
   "outputs": [],
   "source": [
    "\n",
    "\n"
   ],
   "metadata": {
    "collapsed": false,
    "pycharm": {
     "name": "#%%\n"
    }
   }
  }
 ],
 "metadata": {
  "colab": {
   "collapsed_sections": [],
   "name": "Untitled2.ipynb",
   "provenance": []
  },
  "kernelspec": {
   "display_name": "Python 3",
   "language": "python",
   "name": "python3"
  },
  "language_info": {
   "codemirror_mode": {
    "name": "ipython",
    "version": 3
   },
   "file_extension": ".py",
   "mimetype": "text/x-python",
   "name": "python",
   "nbconvert_exporter": "python",
   "pygments_lexer": "ipython3",
   "version": "3.7.8"
  }
 },
 "nbformat": 4,
 "nbformat_minor": 1
}